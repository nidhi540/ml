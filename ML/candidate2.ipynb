{
 "cells": [
  {
   "cell_type": "code",
   "execution_count": 1,
   "id": "3d185feb-dc54-4cb7-98e8-838ba4334a81",
   "metadata": {},
   "outputs": [
    {
     "name": "stdout",
     "output_type": "stream",
     "text": [
      "The initialization of the specific and general hypothesis \n",
      " S0: ['0', '0', '0', '0', '0'] \n",
      " G0: ['?', '?', '?', '?', '?']\n",
      "\n",
      " the 1 training instance is Positive \n",
      " ['sunny' 'warm' 'normal' 'strong' 'warm' 'same']\n",
      "S1:\n",
      " ['sunny' 'warm' 'normal' 'strong' 'warm' 'same']\n",
      "G1:\n",
      " [['?', '?', '?', '?', '?', '?'], ['?', '?', '?', '?', '?', '?'], ['?', '?', '?', '?', '?', '?'], ['?', '?', '?', '?', '?', '?'], ['?', '?', '?', '?', '?', '?'], ['?', '?', '?', '?', '?', '?']]\n",
      "\n",
      " the 2 training instance is Positive \n",
      " ['sunny' 'warm' 'high' 'strong' 'warm' 'same']\n",
      "S2:\n",
      " ['sunny' 'warm' '?' 'strong' 'warm' 'same']\n",
      "G2:\n",
      " [['?', '?', '?', '?', '?', '?'], ['?', '?', '?', '?', '?', '?'], ['?', '?', '?', '?', '?', '?'], ['?', '?', '?', '?', '?', '?'], ['?', '?', '?', '?', '?', '?'], ['?', '?', '?', '?', '?', '?']]\n",
      "\n",
      "The 3 training instance is Negative \n",
      " ['rainy' 'cold' 'high' 'strong' 'warm' 'change']\n",
      "S3:\n",
      " ['sunny' 'warm' '?' 'strong' 'warm' 'same']\n",
      "G3:\n",
      " [['sunny', '?', '?', '?', '?', '?'], ['?', 'warm', '?', '?', '?', '?'], ['?', '?', '?', '?', '?', '?'], ['?', '?', '?', '?', '?', '?'], ['?', '?', '?', '?', '?', '?'], ['?', '?', '?', '?', '?', 'same']]\n",
      "\n",
      " the 4 training instance is Positive \n",
      " ['sunny' 'warm' 'high' 'strong' 'cool' 'change']\n",
      "S4:\n",
      " ['sunny' 'warm' '?' 'strong' '?' '?']\n",
      "G4:\n",
      " [['sunny', '?', '?', '?', '?', '?'], ['?', 'warm', '?', '?', '?', '?'], ['?', '?', '?', '?', '?', '?'], ['?', '?', '?', '?', '?', '?'], ['?', '?', '?', '?', '?', '?'], ['?', '?', '?', '?', '?', '?']]\n",
      "\n",
      "The Final Specific Hypothesis:\n",
      "['sunny' 'warm' '?' 'strong' '?' '?']\n",
      "\n",
      "The Final General Hypothesis:\n",
      "[['sunny', '?', '?', '?', '?', '?'], ['?', 'warm', '?', '?', '?', '?']]\n"
     ]
    }
   ],
   "source": [
    "import pandas as pd\n",
    "\n",
    "data = pd.read_csv('enjoysport.csv')\n",
    "concepts = data.iloc[:, :-1].values\n",
    "target = data.iloc[:, -1].values\n",
    "n=len(concepts[0])-1\n",
    "specific_h = ['0'] * n \n",
    "general_h = ['?'] * n\n",
    "print(\"The initialization of the specific and general hypothesis \")\n",
    "print(\" S0:\",specific_h,\"\\n G0:\",general_h)\n",
    "\n",
    "def learn(concepts, target):\n",
    "    specific_h = concepts[0].copy()\n",
    "    general_h = [[\"?\" for _ in range(len(specific_h))] for _ in range(len(specific_h))]\n",
    "\n",
    "    for i, h in enumerate(concepts):\n",
    "        if target[i] == \"yes\":\n",
    "            print(f\"\\n the {i+1} training instance is Positive \\n\",concepts[i])\n",
    "            for x in range(len(specific_h)):\n",
    "                if h[x] != specific_h[x]:\n",
    "                    specific_h[x] = '?'\n",
    "                    general_h[x][x] = '?'\n",
    "        else:\n",
    "            print(f\"\\nThe {i+1} training instance is Negative \\n\",concepts[i])\n",
    "            for x in range(len(specific_h)):\n",
    "                if h[x] != specific_h[x]:\n",
    "                    general_h[x][x] = specific_h[x]\n",
    "                else:\n",
    "                    general_h[x][x] = '?'\n",
    "\n",
    "        print(f\"S{i+1}:\\n\", specific_h)\n",
    "        print(f\"G{i+1}:\\n\", general_h)\n",
    "\n",
    "    general_h = [h for h in general_h if h != ['?' for _ in range(len(specific_h))]]\n",
    "    return specific_h, general_h\n",
    "\n",
    "s_final, g_final = learn(concepts, target)\n",
    "\n",
    "print(\"\\nThe Final Specific Hypothesis:\")\n",
    "print(s_final)\n",
    "print(\"\\nThe Final General Hypothesis:\")\n",
    "print(g_final)"
   ]
  },
  {
   "cell_type": "code",
   "execution_count": null,
   "id": "99fe35df-677c-49f2-95be-73fb8af6db84",
   "metadata": {},
   "outputs": [],
   "source": []
  }
 ],
 "metadata": {
  "kernelspec": {
   "display_name": "Python 3 (ipykernel)",
   "language": "python",
   "name": "python3"
  },
  "language_info": {
   "codemirror_mode": {
    "name": "ipython",
    "version": 3
   },
   "file_extension": ".py",
   "mimetype": "text/x-python",
   "name": "python",
   "nbconvert_exporter": "python",
   "pygments_lexer": "ipython3",
   "version": "3.11.7"
  }
 },
 "nbformat": 4,
 "nbformat_minor": 5
}
