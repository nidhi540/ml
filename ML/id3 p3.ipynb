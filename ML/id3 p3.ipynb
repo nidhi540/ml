{
 "cells": [
  {
   "cell_type": "code",
   "execution_count": 2,
   "id": "238a896d-2978-4664-a532-ea0a2f9e3a92",
   "metadata": {},
   "outputs": [
    {
     "name": "stdout",
     "output_type": "stream",
     "text": [
      "Requirement already satisfied: graphviz in c:\\users\\bande\\anaconda3\\lib\\site-packages (0.20.3)\n",
      "Note: you may need to restart the kernel to use updated packages.\n"
     ]
    }
   ],
   "source": [
    "pip install graphviz\n"
   ]
  },
  {
   "cell_type": "code",
   "execution_count": 1,
   "id": "fe7ff9d9-3d9a-4995-8c01-d5c44f5b1953",
   "metadata": {},
   "outputs": [
    {
     "name": "stdout",
     "output_type": "stream",
     "text": [
      "Accuracy: 0.69\n",
      "Predicted class for the new sample: setosa\n"
     ]
    }
   ],
   "source": [
    "import numpy as np\n",
    "import pandas as pd\n",
    "from sklearn.datasets import load_iris\n",
    "from sklearn.model_selection import train_test_split\n",
    "from sklearn.metrics import accuracy_score\n",
    "from collections import Counter\n",
    "\n",
    "class DecisionTreeID3:\n",
    "    def _init_(self):\n",
    "        self.tree = None\n",
    "\n",
    "    def fit(self, X, y):\n",
    "        self.tree = self._build_tree(X, y)\n",
    "\n",
    "    def _entropy(self, y):\n",
    "        counts = np.bincount(y)\n",
    "        probabilities = counts / len(y)\n",
    "        entropy = -np.sum(probabilities * np.log2(probabilities + 1e-10))\n",
    "        return entropy\n",
    "\n",
    "    def _information_gain(self, X_col, y):\n",
    "        parent_entropy = self._entropy(y)\n",
    "        values, counts = np.unique(X_col, return_counts=True)\n",
    "        weighted_entropy = np.sum((counts / len(X_col)) * np.array([self._entropy(y[X_col == value]) for value in values]))\n",
    "        return parent_entropy - weighted_entropy\n",
    "\n",
    "    def _best_split(self, X, y):\n",
    "        best_gain = 0\n",
    "        best_split = None\n",
    "        for feature_index in range(X.shape[1]):\n",
    "            X_col = X[:, feature_index]\n",
    "            gain = self._information_gain(X_col, y)\n",
    "            if gain > best_gain:\n",
    "                best_gain = gain\n",
    "                best_split = feature_index\n",
    "        return best_split\n",
    "\n",
    "    def _build_tree(self, X, y):\n",
    "        if len(np.unique(y)) == 1:\n",
    "            return y[0]\n",
    "        \n",
    "        if X.shape[1] == 0:\n",
    "            return Counter(y).most_common(1)[0][0]\n",
    "        \n",
    "        split = self._best_split(X, y)\n",
    "        if split is None:\n",
    "            return Counter(y).most_common(1)[0][0]\n",
    "        \n",
    "        tree = {split: {}}\n",
    "        values = np.unique(X[:, split])\n",
    "        for value in values:\n",
    "            X_subset = X[X[:, split] == value]\n",
    "            y_subset = y[X[:, split] == value]\n",
    "            tree[split][value] = self._build_tree(X_subset, y_subset)\n",
    "        return tree\n",
    "\n",
    "    def _predict_sample(self, tree, sample):\n",
    "        if not isinstance(tree, dict):\n",
    "            return tree\n",
    "        split = list(tree.keys())[0]\n",
    "        value = sample[split]\n",
    "        subtree = tree[split].get(value, None)\n",
    "        if subtree is None:\n",
    "            return None\n",
    "        return self._predict_sample(subtree, sample)\n",
    "\n",
    "    def predict(self, X):\n",
    "        predictions = []\n",
    "        for sample in X:\n",
    "            prediction = self._predict_sample(self.tree, sample)\n",
    "            if prediction is None:\n",
    "                prediction = -1  \n",
    "            predictions.append(prediction)\n",
    "        return np.array(predictions, dtype=int) \n",
    "\n",
    "iris = load_iris()\n",
    "X = iris.data\n",
    "y = iris.target\n",
    "feature_names = iris.feature_names\n",
    "target_names = iris.target_names\n",
    "X_train, X_test, y_train, y_test = train_test_split(X, y, test_size=0.3, random_state=42)\n",
    "model = DecisionTreeID3()\n",
    "model.fit(X_train, y_train)\n",
    "y_pred = model.predict(X_test)\n",
    "accuracy = accuracy_score(y_test, y_pred)\n",
    "print(f\"Accuracy: {accuracy:.2f}\")\n",
    "new_sample = np.array([5.1, 3.5, 1.4, 0.2])\n",
    "prediction = model.predict(new_sample.reshape(1, -1))\n",
    "print(f\"Predicted class for the new sample: {target_names[prediction[0]]}\")"
   ]
  },
  {
   "cell_type": "code",
   "execution_count": null,
   "id": "9caf5b70-877c-4a0d-b448-1fbe4b1d13ca",
   "metadata": {},
   "outputs": [],
   "source": []
  }
 ],
 "metadata": {
  "kernelspec": {
   "display_name": "Python 3 (ipykernel)",
   "language": "python",
   "name": "python3"
  },
  "language_info": {
   "codemirror_mode": {
    "name": "ipython",
    "version": 3
   },
   "file_extension": ".py",
   "mimetype": "text/x-python",
   "name": "python",
   "nbconvert_exporter": "python",
   "pygments_lexer": "ipython3",
   "version": "3.11.7"
  }
 },
 "nbformat": 4,
 "nbformat_minor": 5
}
