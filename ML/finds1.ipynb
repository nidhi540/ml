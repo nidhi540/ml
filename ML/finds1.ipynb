{
 "cells": [
  {
   "cell_type": "code",
   "execution_count": 1,
   "id": "0ed5401a-2884-4dd5-afb4-bc7fa0867a5e",
   "metadata": {},
   "outputs": [
    {
     "name": "stdout",
     "output_type": "stream",
     "text": [
      "The total number of training instances are: 4 \n",
      " [['sunny', 'warm', 'normal', 'strong', 'warm', 'same', 'yes'], ['sunny', 'warm', 'high', 'strong', 'warm', 'same', 'yes'], ['rainy', 'cold', 'high', 'strong', 'warm', 'change', 'no'], ['sunny', 'warm', 'high', 'strong', 'cool', 'change', 'yes']]\n",
      "\n",
      "The hypothesis for the training instance 0 is : \n",
      " ['0', '0', '0', '0', '0', '0']\n",
      "\n",
      "The hypothesis for the training instance 1 is : \n",
      " ['sunny', 'warm', 'normal', 'strong', 'warm', 'same']\n",
      "\n",
      "The hypothesis for the training instance 2 is : \n",
      " ['sunny', 'warm', '?', 'strong', 'warm', 'same']\n",
      "\n",
      "The hypothesis for the training instance 3 is : \n",
      " ['sunny', 'warm', '?', 'strong', 'warm', 'same']\n",
      "\n",
      "The hypothesis for the training instance 4 is : \n",
      " ['sunny', 'warm', '?', 'strong', '?', '?']\n",
      "\n",
      "The Maximally specific hypothesis for the training instances is  ['sunny', 'warm', '?', 'strong', '?', '?']\n"
     ]
    }
   ],
   "source": [
    "import csv\n",
    "with open('enjoysport.csv', 'r') as file:\n",
    "    data = [row for row in csv.reader(file)] \n",
    "    print(\"The total number of training instances are:\",len(data)-1,'\\n',data[1:])\n",
    "\n",
    "num_attribute = len(data[0])-1\n",
    "\n",
    "\n",
    "hypothesis = ['0']*num_attribute\n",
    "\n",
    "for i in range(0, len(data)):\n",
    "    if data[i][num_attribute] == 'yes':\n",
    "        for j in range(0, num_attribute):\n",
    "            if hypothesis[j] == '0' or hypothesis[j] == data[i][j]:\n",
    "                hypothesis[j] = data[i][j]\n",
    "            else:\n",
    "                hypothesis[j] = '?'\n",
    "    print(\"\\nThe hypothesis for the training instance {} is : \\n\".format(i),hypothesis)\n",
    "\n",
    "print(\"\\nThe Maximally specific hypothesis for the training instances is \", hypothesis)"
   ]
  },
  {
   "cell_type": "code",
   "execution_count": null,
   "id": "ab5ee146-fc67-42c0-8832-ac457619b70a",
   "metadata": {},
   "outputs": [],
   "source": []
  }
 ],
 "metadata": {
  "kernelspec": {
   "display_name": "Python 3 (ipykernel)",
   "language": "python",
   "name": "python3"
  },
  "language_info": {
   "codemirror_mode": {
    "name": "ipython",
    "version": 3
   },
   "file_extension": ".py",
   "mimetype": "text/x-python",
   "name": "python",
   "nbconvert_exporter": "python",
   "pygments_lexer": "ipython3",
   "version": "3.11.7"
  }
 },
 "nbformat": 4,
 "nbformat_minor": 5
}
