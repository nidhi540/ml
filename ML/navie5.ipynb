{
 "cells": [
  {
   "cell_type": "code",
   "execution_count": 1,
   "id": "32f051fc-355c-46bc-bc9e-64e7821c711e",
   "metadata": {},
   "outputs": [
    {
     "name": "stdout",
     "output_type": "stream",
     "text": [
      "Total number of Training Data: (614, 1)\n",
      "Total number of Test Data: (154, 1)\n",
      "\n",
      "Confusion matrix:\n",
      "[[86 11]\n",
      " [26 31]]\n",
      "\n",
      "Accuracy of the classifier: 0.7597402597402597\n",
      "\n",
      "Precision: 0.7380952380952381\n",
      "\n",
      "Recall: 0.543859649122807\n",
      "\n",
      "Predicted Value for individual Test Data: [1]\n"
     ]
    },
    {
     "name": "stderr",
     "output_type": "stream",
     "text": [
      "C:\\Users\\bande\\anaconda3\\Lib\\site-packages\\sklearn\\utils\\validation.py:1143: DataConversionWarning: A column-vector y was passed when a 1d array was expected. Please change the shape of y to (n_samples, ), for example using ravel().\n",
      "  y = column_or_1d(y, warn=True)\n"
     ]
    }
   ],
   "source": [
    "import pandas as pd\n",
    "from sklearn.model_selection import train_test_split\n",
    "from sklearn.naive_bayes import GaussianNB\n",
    "from sklearn import metrics\n",
    "\n",
    "\n",
    "df = pd.read_csv(\"pima_indian.csv\")\n",
    "\n",
    "\n",
    "feature_col_names = ['num_preg', 'glucose_conc', 'diastolic_bp', 'thickness', 'insulin', 'bmi', 'diab_pred', 'age']\n",
    "predicted_class_names = ['diabetes']\n",
    "\n",
    "\n",
    "X = df[feature_col_names].values\n",
    "y = df[predicted_class_names].values\n",
    "\n",
    "\n",
    "X_train, X_test, y_train, y_test = train_test_split(X, y, test_size=0.20)\n",
    "\n",
    "print('Total number of Training Data:', y_train.shape)\n",
    "print('Total number of Test Data:', y_test.shape)\n",
    "\n",
    "\n",
    "clf = GaussianNB()\n",
    "clf.fit(X_train, y_train)\n",
    "\n",
    "\n",
    "predicted = clf.predict(X_test)\n",
    "predict_test_data = clf.predict([[6, 148, 72, 35, 0, 33.6, 0.627, 50]])\n",
    "\n",
    "\n",
    "print('\\nConfusion matrix:')\n",
    "print(metrics.confusion_matrix(y_test, predicted))\n",
    "\n",
    "print('\\nAccuracy of the classifier:', metrics.accuracy_score(y_test, predicted))\n",
    "\n",
    "print('\\nPrecision:', metrics.precision_score(y_test, predicted))\n",
    "\n",
    "print('\\nRecall:', metrics.recall_score(y_test, predicted))\n",
    "\n",
    "print(\"\\nPredicted Value for individual Test Data:\", predict_test_data)"
   ]
  },
  {
   "cell_type": "code",
   "execution_count": null,
   "id": "14999efe-92a9-453f-997b-beb84e8510ba",
   "metadata": {},
   "outputs": [],
   "source": []
  }
 ],
 "metadata": {
  "kernelspec": {
   "display_name": "Python 3 (ipykernel)",
   "language": "python",
   "name": "python3"
  },
  "language_info": {
   "codemirror_mode": {
    "name": "ipython",
    "version": 3
   },
   "file_extension": ".py",
   "mimetype": "text/x-python",
   "name": "python",
   "nbconvert_exporter": "python",
   "pygments_lexer": "ipython3",
   "version": "3.11.7"
  }
 },
 "nbformat": 4,
 "nbformat_minor": 5
}
